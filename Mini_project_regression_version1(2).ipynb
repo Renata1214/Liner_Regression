{
 "cells": [
  {
   "cell_type": "code",
   "execution_count": 231,
   "id": "88f352b0-d771-4afe-9e1b-b10360737cee",
   "metadata": {},
   "outputs": [
    {
     "name": "stdout",
     "output_type": "stream",
     "text": [
      "The shaepe of x before column of 1: (569, 30)\n",
      "(398, 31)\n",
      "(171, 31)\n",
      "(398,)\n",
      "(171,)\n"
     ]
    }
   ],
   "source": [
    "\n",
    "from sklearn.datasets import load_breast_cancer\n",
    "from sklearn.preprocessing import StandardScaler\n",
    "import matplotlib.pyplot as plt\n",
    "import numpy as np\n",
    "import pandas as pd\n",
    "from sklearn.model_selection import train_test_split\n",
    "from sklearn.metrics import precision_score\n",
    "from sklearn.metrics import recall_score\n",
    "from sklearn.metrics import f1_score\n",
    "from sklearn.metrics import accuracy_score\n",
    "from sklearn.metrics import confusion_matrix\n",
    "import matplotlib.pyplot as plt\n",
    "import numpy as np\n",
    "import warnings\n",
    "\n",
    "# —-------\n",
    "## Avoid printing out warnings\n",
    "with warnings.catch_warnings():\n",
    "     warnings.filterwarnings(\"ignore\")\n",
    "     bc = load_breast_cancer()\n",
    "     X_main, y_main = bc.data, bc.target\n",
    "\n",
    "\n",
    "# 1.Explore and import Breast Cancer Wisconsin dataset:\n",
    "# a)Explore the dataset by using the Scikit Learn library and Numpy\n",
    "scaler = StandardScaler()\n",
    "X_main = scaler.fit_transform(X_main)\n",
    "print(f\"The shaepe of x before column of 1: {X_main.shape}\")\n",
    "#Add columns of 1 to account for bias, and then you will only need the theta\n",
    "X_b = np.c_[np.ones((X_main.shape[0], 1)), X_main]\n",
    "\n",
    "# Split into training and testing datasets\n",
    "X_train, X_test, y_train, y_test = train_test_split(X_b, y_main, test_size=0.3, random_state=42)\n",
    "print (X_train.shape)\n",
    "print (X_test.shape)\n",
    "print(y_train.shape)\n",
    "print(y_test.shape)\n",
    "     "
   ]
  },
  {
   "cell_type": "code",
   "execution_count": 232,
   "id": "e5fa27ab-7414-44b8-90b1-bdcb69171821",
   "metadata": {},
   "outputs": [],
   "source": [
    "def sigmoid(z):\n",
    "    return 1 / (1 + np.exp(-z))\n",
    "\n",
    "def loss_function (y, y_dash):\n",
    "    loss = - (y * np.log(y_dash)) - ((1 - y) * np.log(1 - y_dash))\n",
    "    return loss\n",
    "     "
   ]
  },
  {
   "cell_type": "code",
   "execution_count": 233,
   "id": "7d039b51-897d-45b7-966b-e1b69d72485d",
   "metadata": {},
   "outputs": [],
   "source": [
    "def cost_func(y, y_dash):\n",
    "    m = len(y)\n",
    "    return np.sum(loss_function(y, y_dash)) / m"
   ]
  },
  {
   "cell_type": "code",
   "execution_count": 234,
   "id": "5dc6bda7-2b0d-4d22-b0be-86832b9be4f9",
   "metadata": {},
   "outputs": [],
   "source": [
    "def gradient_descent (x_1, y_1, lr,iterations):\n",
    "    m, n= x_1.shape\n",
    "    cost_every100=[]\n",
    "    y_1 = y_1.reshape(-1, 1)\n",
    "    # Initialize weights and bias to zeros\n",
    "    weights = np.zeros((n, 1))\n",
    "    #bias = 0\n",
    "    # Store loss history to visualize convergence\n",
    "    loss_history = []\n",
    "    for i in range(iterations):\n",
    "        # Forward propagation\n",
    "        z = np.dot(x_1, weights) \n",
    "        #print(f\"The shpae of z is: {z.shape}\")\n",
    "        y_hat = sigmoid(z)\n",
    "        #print(f\"The shpae of y_hat is: {y_hat.shape}\")\n",
    "        # Compute cost/loss\n",
    "        loss = loss_function(y_1, y_hat)\n",
    "        loss_history.append(loss)\n",
    "        cost_val = cost_func(y_1,y_hat)\n",
    "        if i % 100 == 0:\n",
    "            cost_every100.append(cost_val)\n",
    "            # print(f\"Iteration {i}:\")\n",
    "            # print(f\"First 10 sigmoid inputs (z): {z[:10]}\")\n",
    "            # print(f\"First 10 sigmoid outputs (y_hat): {y_hat[:10]}\")\n",
    "            # print(f\"First 10 weights: {weights[:10]}\")\n",
    "        # Backward propagation (gradient calculation)\n",
    "        gradients = (1/m) * np.dot(x_1.T, (y_hat - y_1))\n",
    "        #print(f\"gradients shape: {gradients.shape}\")\n",
    "        # Update parameters \n",
    "        weights =weights - lr * gradients\n",
    "        #print(f\"Weights shape after iteration {i}: {weights.shape}\")\n",
    "        #print(weights)\n",
    "        #print(\"next\")\n",
    "    return weights, loss_history, cost_every100\n"
   ]
  },
  {
   "cell_type": "code",
   "execution_count": 235,
   "id": "e8b81aca-2577-489e-bbdd-060183c70bfd",
   "metadata": {},
   "outputs": [],
   "source": [
    "def predict(X, w):\n",
    "    z = np.dot(X, w)\n",
    "    A = sigmoid(z)\n",
    "    return (A >= 0.5).astype(int)\n",
    "\n"
   ]
  },
  {
   "cell_type": "code",
   "execution_count": 236,
   "id": "83482370-e326-47ea-bf65-ecb33122ba77",
   "metadata": {},
   "outputs": [],
   "source": [
    "# 3.The initial hyper-parameters for this assignment are:\n",
    "# a)Threshold=0.5\n",
    "# b)Learning rate=0.5\n",
    "# c)Run your algorithm for 5000 iterations to update weights\n",
    "lr1=0.5\n",
    "iterations1=5000\n",
    "w_result, loss_result,cost_values3 = gradient_descent (X_train, y_train, lr1,iterations1)"
   ]
  },
  {
   "cell_type": "code",
   "execution_count": 237,
   "id": "3acac7d6-fe7b-4f20-b486-9a39292e2809",
   "metadata": {},
   "outputs": [
    {
     "name": "stdout",
     "output_type": "stream",
     "text": [
      "(50,)\n",
      "50\n"
     ]
    }
   ],
   "source": [
    "binary_predictions = predict(X_test,w_result)\n",
    "binary_predictions = binary_predictions[:, 0]  # Take the first column\n",
    "cost_values3 = np.array(cost_values3)\n",
    "print (cost_values3.shape)\n",
    "x_values = np.arange(0, iterations1, 100)\n",
    "print(len(x_values))"
   ]
  },
  {
   "cell_type": "code",
   "execution_count": 238,
   "id": "244a1e36-a555-4e7a-8964-dbd99e62f687",
   "metadata": {},
   "outputs": [
    {
     "data": {
      "image/png": "[encoded data removed]",
      "text/plain": [
       "<Figure size 640x480 with 1 Axes>"
      ]
     },
     "metadata": {},
     "output_type": "display_data"
    }
   ],
   "source": [
    "# 6.Plot the log loss on every 100th iteration of your gradient descent, \n",
    "# with the iterationnumber on the horizontal axis and the objective value on the vertical axis\n",
    "#x_values = np.arange(0, iterations1, 50)\n",
    "\n",
    "# Plot cost_values3 against x_values\n",
    "plt.plot(x_values, cost_values3)\n",
    "plt.xlim([0, iterations1])  # Set x-axis limits to match the number of iterations\n",
    "plt.xlabel(\"Iterations\")\n",
    "plt.ylabel(\"Cost (Log Loss)\")\n",
    "plt.title(\"Log Loss over Iterations (Every 100th Iteration)\")\n",
    "plt.grid(True)\n",
    "plt.show()"
   ]
  },
  {
   "cell_type": "code",
   "execution_count": 239,
   "id": "42a50605-e46c-4902-82d9-e85c3b6ae1d0",
   "metadata": {},
   "outputs": [
    {
     "name": "stdout",
     "output_type": "stream",
     "text": [
      "The coefficient vector w was :  [[-0.4076448 ]\n",
      " [ 0.06932229]\n",
      " [ 0.06765333]\n",
      " [ 0.26700001]\n",
      " [-0.20721659]\n",
      " [-0.31525128]\n",
      " [ 2.91414991]\n",
      " [-1.51444121]\n",
      " [-3.13995413]\n",
      " [ 1.24420456]\n",
      " [-0.77052515]\n",
      " [-3.60778731]\n",
      " [ 0.61394238]\n",
      " [-0.71373587]\n",
      " [-2.5056965 ]\n",
      " [-0.31138202]\n",
      " [ 0.42979085]\n",
      " [ 0.31716379]\n",
      " [-1.5155607 ]\n",
      " [ 1.24326829]\n",
      " [ 1.98287601]\n",
      " [-1.61472778]\n",
      " [-2.94637798]\n",
      " [-0.29961328]\n",
      " [-1.6873979 ]\n",
      " [-0.177677  ]\n",
      " [ 0.75740683]\n",
      " [-2.4799916 ]\n",
      " [-1.4740527 ]\n",
      " [-3.01217857]\n",
      " [-0.28367323]]\n",
      "Precision: 0.9905660377358491\n",
      "Recall: 0.9722222222222222\n",
      "F1 Score: 0.9813084112149533\n",
      "Accuracy: 0.9766081871345029\n",
      "Confusion Matrix:\n",
      "[[ 62   1]\n",
      " [  3 105]]\n"
     ]
    }
   ],
   "source": [
    "# 4.Report the coefficient vector w\n",
    "print (\"The coefficient vector w was : \", w_result)\n",
    "\n",
    "# 5.For the test dataset, determine the\n",
    "# a)Precision\n",
    "# b)Recall\n",
    "# c)F1 score\n",
    "# d)Confusion matrix..\n",
    "# Evaluate the model - Make sure the correct variables are passed \n",
    "\n",
    "#print(y_test)\n",
    "#print(\"Next\")\n",
    "#print(binary_predictions)\n",
    "\n",
    "precision = precision_score(y_test, binary_predictions)\n",
    "recall = recall_score(y_test, binary_predictions)\n",
    "f1 = f1_score(y_test, binary_predictions)\n",
    "accuracy = accuracy_score(y_test, binary_predictions)\n",
    "conf_matrix = confusion_matrix(y_test, binary_predictions)\n",
    "\n",
    "# Display the results\n",
    "print(f\"Precision: {precision}\")\n",
    "print(f\"Recall: {recall}\")\n",
    "print(f\"F1 Score: {f1}\")\n",
    "print(f\"Accuracy: {accuracy}\")\n",
    "print(f\"Confusion Matrix:\\n{conf_matrix}\")"
   ]
  },
  {
   "cell_type": "code",
   "execution_count": 240,
   "id": "143e9d77-c844-4002-8c88-47e481e87088",
   "metadata": {},
   "outputs": [],
   "source": [
    "# 6.Plot the log loss on every 100th iteration of your gradient descent, \n",
    "# with the iterationnumber on the horizontal axis and the objective value on the vertical axis\n",
    "# Plot the log loss over iterations\n",
    "#plt.plot(range(0, iterations, 100), log_losses)\n",
    "#plt.xlabel(\"Iterations\")\n",
    "#plt.ylabel(\"Log Loss\")\n",
    "#plt.title(\"Log Loss over Iterations\")\n",
    "#plt.show()  "
   ]
  },
  {
   "cell_type": "code",
   "execution_count": 241,
   "id": "89f75670-16ba-41a5-b9e8-7500ef6e9584",
   "metadata": {},
   "outputs": [
    {
     "name": "stdout",
     "output_type": "stream",
     "text": [
      "The coefficient vector w was :  [[-0.48854476]\n",
      " [-1.52023326]\n",
      " [-1.20617112]\n",
      " [-1.67230263]\n",
      " [-1.50851183]\n",
      " [ 0.42849251]\n",
      " [-0.59890235]\n",
      " [-1.73085068]\n",
      " [-0.3112717 ]\n",
      " [-1.24426353]\n",
      " [ 2.05406238]\n",
      " [-1.8973661 ]\n",
      " [-0.12850737]\n",
      " [-1.71545734]\n",
      " [-1.86720591]\n",
      " [-1.58591614]\n",
      " [ 2.15931343]\n",
      " [ 0.89614041]\n",
      " [ 0.53257046]\n",
      " [-0.46925412]\n",
      " [ 2.16119419]\n",
      " [-3.22082624]\n",
      " [-0.41390872]\n",
      " [-3.42565183]\n",
      " [-2.92832538]\n",
      " [-3.01939073]\n",
      " [-0.94642206]\n",
      " [-0.84143795]\n",
      " [-1.21088756]\n",
      " [ 1.47297972]\n",
      " [-3.43839858]]\n",
      "Precision: 0.9678714859437751\n",
      "Recall: 0.9678714859437751\n",
      "F1 Score: 0.9678714859437751\n",
      "Accuracy: 0.9597989949748744\n",
      "Confusion Matrix:\n",
      "[[141   8]\n",
      " [  8 241]]\n"
     ]
    }
   ],
   "source": [
    "#7.Use the test set as a validation set and see if you can find a better setting of thehyperparameters. Report the best values you found.\n",
    "w_result1, loss_result1,cost_val4 = gradient_descent (X_test, y_test, lr1,iterations1)\n",
    "binary_predictions1 = predict(X_train,w_result1)\n",
    "binary_predictions1 = binary_predictions1[:, 0]  # Take the first column\n",
    "print (\"The coefficient vector w was : \", w_result1)\n",
    "\n",
    "precision1 = precision_score(y_train, binary_predictions1)\n",
    "recall1 = recall_score(y_train, binary_predictions1)\n",
    "f11 = f1_score(y_train, binary_predictions1)\n",
    "accuracy1 = accuracy_score(y_train, binary_predictions1)\n",
    "conf_matrix1 = confusion_matrix(y_train, binary_predictions1)\n",
    "\n",
    "print(f\"Precision: {precision1}\")\n",
    "print(f\"Recall: {recall1}\")\n",
    "print(f\"F1 Score: {f11}\")\n",
    "print(f\"Accuracy: {accuracy1}\")\n",
    "print(f\"Confusion Matrix:\\n{conf_matrix1}\")\n",
    "\n"
   ]
  },
  {
   "cell_type": "code",
   "execution_count": 242,
   "id": "8c815ee6-47fb-4b11-979b-3cb05f57e79b",
   "metadata": {},
   "outputs": [
    {
     "name": "stdout",
     "output_type": "stream",
     "text": [
      "Learning Rate: 0.01, Iterations: 1000, Accuracy: 0.9883040935672515\n",
      "Learning Rate: 0.01, Iterations: 5000, Accuracy: 0.9883040935672515\n",
      "Learning Rate: 0.01, Iterations: 10000, Accuracy: 0.9941520467836257\n",
      "Learning Rate: 0.1, Iterations: 1000, Accuracy: 0.9941520467836257\n",
      "Learning Rate: 0.1, Iterations: 5000, Accuracy: 0.9824561403508771\n",
      "Learning Rate: 0.1, Iterations: 10000, Accuracy: 0.9824561403508771\n",
      "Learning Rate: 0.5, Iterations: 1000, Accuracy: 0.9824561403508771\n",
      "Learning Rate: 0.5, Iterations: 5000, Accuracy: 0.9766081871345029\n",
      "Learning Rate: 0.5, Iterations: 10000, Accuracy: 0.9766081871345029\n",
      "Best Learning Rate: 0.01, Best Iterations: 10000, Best Accuracy: 0.9941520467836257\n"
     ]
    }
   ],
   "source": [
    "# Define hyperparameter ranges\n",
    "learning_rates = [0.01, 0.1, 0.5]  # Different learning rates to test\n",
    "iterations_list = [1000, 5000, 10000]  # Different iteration counts to test\n",
    "\n",
    "# Variables to store the best hyperparameters and their performance\n",
    "best_lr = None\n",
    "best_iterations = None\n",
    "best_accuracy = 0\n",
    "\n",
    "# Loop over all combinations of learning rates and iterations\n",
    "for lr in learning_rates:\n",
    "    for iterations in iterations_list:\n",
    "        # Train the model on the training set\n",
    "        w_result, loss_result, cost_values = gradient_descent(X_train, y_train, lr, iterations)\n",
    "        # Predict on the test set =\n",
    "        binary_predictions = predict(X_test, w_result)\n",
    "        binary_predictions = binary_predictions[:, 0]  # Take first column if multilabel\n",
    "        accuracy = accuracy_score(y_test, binary_predictions)\n",
    "        # If this is the best performance so far, store these hyperparameters\n",
    "        if accuracy > best_accuracy:\n",
    "            best_accuracy = accuracy\n",
    "            best_lr = lr\n",
    "            best_iterations = iterations\n",
    "        print(f\"Learning Rate: {lr}, Iterations: {iterations}, Accuracy: {accuracy}\")\n",
    "\n",
    "# Report the best hyperparameters\n",
    "print(f\"Best Learning Rate: {best_lr}, Best Iterations: {best_iterations}, Best Accuracy: {best_accuracy}\")\n"
   ]
  }
 ],
 "metadata": {
  "kernelspec": {
   "display_name": "Python 3 (ipykernel)",
   "language": "python",
   "name": "python3"
  },
  "language_info": {
   "codemirror_mode": {
    "name": "ipython",
    "version": 3
   },
   "file_extension": ".py",
   "mimetype": "text/x-python",
   "name": "python",
   "nbconvert_exporter": "python",
   "pygments_lexer": "ipython3",
   "version": "3.9.13"
  }
 },
 "nbformat": 4,
 "nbformat_minor": 5
}
